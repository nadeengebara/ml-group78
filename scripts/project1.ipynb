{
 "cells": [
  {
   "cell_type": "code",
   "execution_count": 3,
   "metadata": {
    "collapsed": false
   },
   "outputs": [],
   "source": [
    "# Useful starting lines\n",
    "%matplotlib inline\n",
    "import numpy as np\n",
    "import matplotlib.pyplot as plt\n",
    "%load_ext autoreload\n",
    "%autoreload 2\n",
    "\n"
   ]
  },
  {
   "cell_type": "markdown",
   "metadata": {},
   "source": [
    "## Load the training data into feature matrix, class labels, and event ids:"
   ]
  },
  {
   "cell_type": "code",
   "execution_count": 4,
   "metadata": {
    "collapsed": false
   },
   "outputs": [],
   "source": [
    "from proj1_helpers import *\n",
    "from our_helpers import *\n",
    "DATA_TRAIN_PATH = \"train.csv\" # TODO: download train data and supply path here \n",
    "y, tX, ids = load_csv_data(DATA_TRAIN_PATH)"
   ]
  },
  {
   "cell_type": "markdown",
   "metadata": {},
   "source": [
    "# Clean DataSet "
   ]
  },
  {
   "cell_type": "markdown",
   "metadata": {},
   "source": [
    "## Do your thing crazy machine learning thing here :) ..."
   ]
  },
  {
   "cell_type": "markdown",
   "metadata": {
    "collapsed": true
   },
   "source": [
    "#Move discrete vector out (column 22) and replace with 4 columns"
   ]
  },
  {
   "cell_type": "code",
   "execution_count": 5,
   "metadata": {
    "collapsed": false
   },
   "outputs": [],
   "source": [
    "\n",
    "vector=tX[::,22]\n",
    "X=np.delete(tX,22,1)\n",
    "mat=np.zeros((250000,4))\n",
    "for i in (range(len(vector))):\n",
    "    j=int(vector[i])\n",
    "    mat[i,j]=1  \n",
    "X=np.concatenate((X,mat),1)\n",
    " \n",
    "#feature_plot(X)\n"
   ]
  },
  {
   "cell_type": "code",
   "execution_count": 6,
   "metadata": {
    "collapsed": true
   },
   "outputs": [],
   "source": [
    "#Clean up by mean and observe"
   ]
  },
  {
   "cell_type": "code",
   "execution_count": 7,
   "metadata": {
    "collapsed": false
   },
   "outputs": [],
   "source": [
    "mean_replaced_X=np.zeros((X.shape[0],X.shape[1]))\n",
    "median_replaced_X=np.zeros((X.shape[0],X.shape[1]))\n",
    "for i in (range(X.shape[1])):\n",
    "    mean_replaced_X[::,i]=clean_up_invalid_values_mean(X[::,i])\n",
    "    median_replaced_X[::,i]=clean_up_invalid_values_median(X[::,i])\n",
    "#fig1=feature_plot(mean_replaced_X)\n",
    "#plt.savefig('mean_replaced_data.png')\n",
    "#fig2=feature_plot(median_replaced_X)\n",
    "#plt.savefig('median_replaced_data.png')"
   ]
  },
  {
   "cell_type": "markdown",
   "metadata": {},
   "source": [
    "# Correlation Vectors before normalization "
   ]
  },
  {
   "cell_type": "code",
   "execution_count": 123,
   "metadata": {
    "collapsed": false
   },
   "outputs": [
    {
     "name": "stdout",
     "output_type": "stream",
     "text": [
      "33\n",
      "(array([14, 23, 24, 26], dtype=int64),)\n"
     ]
    },
    {
     "data": {
      "image/png": "[encoded data removed]",
      "text/plain": [
       "<matplotlib.figure.Figure at 0x2117b15cd30>"
      ]
     },
     "metadata": {},
     "output_type": "display_data"
    },
    {
     "name": "stdout",
     "output_type": "stream",
     "text": [
      "[ 1. -1. -1. -1. -1. -1.  1.  1. -1.  1. -1. -1. -1. -1. -1.  1. -1.  1.\n",
      " -1. -1. -1. -1. -1.  1. -1. -1.  1.  1.  1. -1. -1.  1.  1. -1. -1. -1.\n",
      "  1.  1.  1.  1.  1. -1.  1. -1. -1. -1.  1.  1. -1.  1.]\n",
      "[ 0.  0.  0.  1.  1.  0.  0.  0.  1.  0.  1.  0.  0.  1.  1.  1.  0.  1.\n",
      "  1.  1.  1.  1.  1.  0.  1.  1.  0.  0.  0.  0.  0.  0.  0.  0.  0.  0.\n",
      "  1.  1.  0.  0.  1.  1.  0.  1.  1.  0.  0.  1.  1.  1.]\n",
      "[ 1.  0.  0.  0.  0.  0.  1.  0.  0.  0.  0.  0.  0.  0.  0.  0.  0.  0.\n",
      "  0.  0.  0.  0.  0.  1.  0.  0.  0.  1.  0.  1.  0.  0.  1.  1.  0.  0.\n",
      "  0.  0.  0.  0.  0.  0.  1.  0.  0.  1.  1.  0.  0.  0.]\n"
     ]
    }
   ],
   "source": [
    "from our_helpers import *\n",
    "\n",
    "V=compute_correlation(mean_replaced_X,y)\n",
    "print(len(V))\n",
    "uncorrelated=(abs(V[::])< 0.001)\n",
    "uncorrelated_feature=np.where(uncorrelated==True)\n",
    "print(uncorrelated_feature)\n",
    "correlation_plot(V,mean_replaced_X.shape[1],'Correlations')\n",
    "#Features  14,23,24, and 26 appear to be uncorrelated with output result\n",
    "\n",
    "so=np.ones(250000)*-1\n",
    "print(y[0:50:1])\n",
    "print(mean_replaced_X[0:50:1,29])\n",
    "#print(mean_replaced_X[0:50:1,30])\n",
    "print(mean_replaced_X[0:50:1,31])\n",
    "#print(mean_replaced_X[0:50:1,32])\n",
    "\n",
    "\n",
    "\n",
    "\n",
    "\n",
    "\n"
   ]
  },
  {
   "cell_type": "markdown",
   "metadata": {},
   "source": [
    "# Normalize Data between 0 & 1"
   ]
  },
  {
   "cell_type": "code",
   "execution_count": 9,
   "metadata": {
    "collapsed": false
   },
   "outputs": [
    {
     "name": "stdout",
     "output_type": "stream",
     "text": [
      "(array([14, 23, 24, 26], dtype=int64),)\n"
     ]
    }
   ],
   "source": [
    "#Set Constraint on correlation value\n",
    "Const=0.001\n",
    "normalized_mean_replaced_X=normalize_data(mean_replaced_X)\n",
    "V=compute_correlation(normalized_mean_replaced_X,y)\n",
    "uncorrelated=(abs(V[::])< Const)\n",
    "uncorrelated_feature=np.where(uncorrelated==True)\n",
    "print(uncorrelated_feature)\n",
    "#correlation_plot(V,mean_replaced_X.shape[1],'Correlations')\n"
   ]
  },
  {
   "cell_type": "markdown",
   "metadata": {},
   "source": [
    "# Standardize the Data"
   ]
  },
  {
   "cell_type": "code",
   "execution_count": 20,
   "metadata": {
    "collapsed": false
   },
   "outputs": [],
   "source": [
    "from helpers import *\n",
    "standardized_X=standardize(normalized_mean_replaced_X)"
   ]
  },
  {
   "cell_type": "markdown",
   "metadata": {},
   "source": [
    "# Ridge Regression"
   ]
  },
  {
   "cell_type": "code",
   "execution_count": 58,
   "metadata": {
    "collapsed": false
   },
   "outputs": [],
   "source": [
    "from ToolBox import *\n",
    "from costs import *\n",
    "lambdas = np.logspace(-3, 1, 10)   \n",
    "w_results=np.zeros((len(lambdas),standardized_X.shape[1]))\n",
    "\n",
    "for ind, degree in enumerate(lambdas):\n",
    "    weight=ridge_regression(y,standardized_X, lambdas[ind])\n",
    "    rmse_tr=compute_loss_MSE(y,standardized_X, weight)\n",
    "    #print(\"weight= \\n {w} , \\n RMSEtr={r}, \\n lambda={la}\\n\".format(w=weight,r=rmse_tr,la=degree) )\n",
    "    w_results[ind,::]=weight\n",
    "        #print(\"proportion={p}, degree={d}, Training RMSE={tr:.3f}, Testing RMSE={te:.3f}\".format(\n",
    "         #p=ratio, d=degree, tr=rmse_tr, te=rmse_te))\n"
   ]
  },
  {
   "cell_type": "code",
   "execution_count": 87,
   "metadata": {
    "collapsed": false
   },
   "outputs": [
    {
     "data": {
      "image/png": "[encoded data removed]",
      "text/plain": [
       "<matplotlib.figure.Figure at 0x210002c5be0>"
      ]
     },
     "metadata": {},
     "output_type": "display_data"
    }
   ],
   "source": [
    "from Cross_Validation import *\n",
    "def cross_validation_demo():\n",
    "    seed = 5\n",
    "    k_fold=4\n",
    "    lambdas = np.logspace(-4, 2, 30)\n",
    "    # split data in k fold\n",
    "    k_indices = build_k_indices(y, k_fold, seed)\n",
    "    # define lists to store the loss of training data and test data\n",
    "   \n",
    "    \n",
    "    loss_tr=np.zeros(k_fold)\n",
    "    loss_te=np.zeros(k_fold)\n",
    "    mse_tr = np.zeros(len(lambdas))\n",
    "    mse_te = np.zeros(len(lambdas))\n",
    "    mse_var_tr=np.zeros(len(lambdas))\n",
    "    mse_var_te=np.zeros(len(lambdas))\n",
    "\n",
    "  \n",
    "    for ind, lambd in enumerate(lambdas):\n",
    "        for k in range (k_fold):\n",
    "            w,loss_tr[k],loss_te[k]=cross_validation(y,standardized_X, k_indices, k, lambd)\n",
    "            \n",
    "            #print(\"weight={w} , RMSEtr={r},RMSEte={rt}, lambda={la}\".format(w=w,r=loss_tr[k],rt=loss_te[k],la=lambdas[ind]) )\n",
    "       \n",
    "        mse_tr[ind]=np.mean(loss_tr)\n",
    "        mse_te[ind]=np.mean(loss_te)\n",
    "        mse_var_tr[ind]=np.var(loss_tr)\n",
    "        mse_var_te[ind]=np.var(loss_te)\n",
    "\n",
    "    cross_validation_visualization(lambdas, np.sqrt(mse_tr), np.sqrt(mse_te))\n",
    "\n",
    "cross_validation_demo()"
   ]
  },
  {
   "cell_type": "code",
   "execution_count": 95,
   "metadata": {
    "collapsed": false
   },
   "outputs": [
    {
     "name": "stdout",
     "output_type": "stream",
     "text": [
      "(34,)\n",
      "(250000, 34)\n",
      "[-0.15690051  0.0178801  -0.54574046 -0.59323767 -0.31709637 -0.07558562\n",
      "  0.26962565  0.27702944 -0.50355735 -0.48107699 -0.82558219  0.22065516\n",
      " -0.34270854 -0.42093039 -1.25597881 -0.18631685  0.20551589 -0.19532408\n",
      " -0.88024346 -0.86849154 -1.0205052  -0.22004252 -0.35841429  0.25372818\n",
      " -0.50684077 -0.37786748 -0.07048428  0.26398606  0.02701633  0.43045155] [ 1. -1. -1. -1. -1. -1.  1.  1. -1.  1. -1. -1. -1. -1. -1.  1. -1.  1.\n",
      " -1. -1. -1. -1. -1.  1. -1. -1.  1.  1.  1. -1.]\n"
     ]
    }
   ],
   "source": [
    "weight=ridge_regression(y,standardized_X,0.0001)\n",
    "print(weight.shape)\n",
    "print(standardized_X.shape)\n",
    "Youtcome=standardized_X.dot(weight)\n",
    "print(Youtcome[0:30:1],y[0:30:1])\n",
    "#print(y[0:30:1])"
   ]
  },
  {
   "cell_type": "markdown",
   "metadata": {},
   "source": [
    "## Generate predictions and save ouput in csv format for submission:"
   ]
  },
  {
   "cell_type": "code",
   "execution_count": 10,
   "metadata": {
    "collapsed": false
   },
   "outputs": [],
   "source": [
    "DATA_TEST_PATH = \"test.csv\" # TODO: download train data and supply path here \n",
    "_, tX_test, ids_test = load_csv_data(DATA_TEST_PATH)"
   ]
  },
  {
   "cell_type": "code",
   "execution_count": null,
   "metadata": {
    "collapsed": true
   },
   "outputs": [],
   "source": []
  },
  {
   "cell_type": "code",
   "execution_count": 31,
   "metadata": {
    "collapsed": false
   },
   "outputs": [],
   "source": [
    "OUTPUT_PATH = '' # TODO: fill in desired name of output file for submission\n",
    "y_pred = predict_labels(weights, tX_test)\n",
    "create_csv_submission(ids_test, y_pred, OUTPUT_PATH)"
   ]
  },
  {
   "cell_type": "code",
   "execution_count": null,
   "metadata": {
    "collapsed": true
   },
   "outputs": [],
   "source": []
  }
 ],
 "metadata": {
  "anaconda-cloud": {},
  "kernelspec": {
   "display_name": "Python [Root]",
   "language": "python",
   "name": "Python [Root]"
  },
  "language_info": {
   "codemirror_mode": {
    "name": "ipython",
    "version": 3
   },
   "file_extension": ".py",
   "mimetype": "text/x-python",
   "name": "python",
   "nbconvert_exporter": "python",
   "pygments_lexer": "ipython3",
   "version": "3.5.2"
  }
 },
 "nbformat": 4,
 "nbformat_minor": 0
}
